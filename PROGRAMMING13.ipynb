{
 "cells": [
  {
   "cell_type": "code",
   "execution_count": null,
   "id": "7b83dceb",
   "metadata": {},
   "outputs": [],
   "source": [
    "#Write a program that calculates and prints the value according to the given formula:\n",
    "#Q = Square root of [(2 * C * D)/H]\n",
    "##C is 50. H is 30.\n",
    "#D is the variable whose values should be input\n",
    "import math\n",
    "c=50 \n",
    "h=30\n",
    "value==[]\n",
    "\n",
    "items=[x for x in input.split(\",\")]\n",
    "for d in items:\n",
    "    value.append(str(int(round(math.sqrt(2*c*float(d)/h)))))\n",
    "    print(','.join(value))"
   ]
  },
  {
   "cell_type": "code",
   "execution_count": null,
   "id": "a8ca19ae",
   "metadata": {},
   "outputs": [],
   "source": []
  },
  {
   "cell_type": "code",
   "execution_count": null,
   "id": "7a3d9ff3",
   "metadata": {},
   "outputs": [],
   "source": [
    "#Write a program which takes 2 digits, X,Y as input and generates a 2-dimensional array. The\n",
    "element value in the i-th row and j-th column of the array should be i*j.\n",
    "row_num = int(input('enter value row'))\n",
    "col_num = int(input('enter value of col'))\n",
    "\n",
    "mul_lst = [[0 for col in range(col_num)] for row in range(row_num)]\n",
    "for row in range (row_num):\n",
    "    for col in range (col_num):\n",
    "        \n",
    "\n",
    "        mul_lst[row][col]= row*col\n",
    "\n",
    "print(mul_lst)\n"
   ]
  },
  {
   "cell_type": "code",
   "execution_count": null,
   "id": "1823ed78",
   "metadata": {},
   "outputs": [],
   "source": [
    "#Write a program that accepts a comma separated sequence of words as input and prints the\n",
    "#words in a comma-separated sequence after sorting them alphabetically.\n",
    "string = str(input('take input from user'))\n",
    "print(''. join(dict.fromkeys(string.split())))\n"
   ]
  },
  {
   "cell_type": "code",
   "execution_count": null,
   "id": "c49e1247",
   "metadata": {},
   "outputs": [],
   "source": [
    "# Python3 program\n",
    "\n",
    "string = 'Python is great and Java is also great'\n",
    "\n",
    "print(' '.join(dict.fromkeys(string.split())))\n"
   ]
  },
  {
   "cell_type": "code",
   "execution_count": null,
   "id": "14ce00d4",
   "metadata": {},
   "outputs": [],
   "source": [
    "#program that accepts a sentence and calculate the number of letters and digits.\n",
    "\n",
    "string = \"co2mpu1te10rs\""
   ]
  },
  {
   "cell_type": "code",
   "execution_count": null,
   "id": "f4ea7bc9",
   "metadata": {},
   "outputs": [],
   "source": [
    "string ='hello world! 123'\n",
    "count = 0\n",
    "newstring =\"\"\n",
    "for a in string:\n",
    "    if (a.isnumeric()) == True:\n",
    "        count+= 1\n",
    "    else:\n",
    "        newstring+= a\n",
    "print(count)\n",
    "print(newstring)\n",
    "\n",
    "# Python, isnumeric() is a built-in method used for string handling. The issnumeric() methods returns “True” if all characters in the string are numeric characters, Otherwise, It returns “False”.\n",
    "#This function is used to check if the argument contains all numeric characters such as : integers, fractions, subscript, superscript, roman numerals etc.(all written in unicode)"
   ]
  },
  {
   "cell_type": "code",
   "execution_count": null,
   "id": "922c747b",
   "metadata": {},
   "outputs": [],
   "source": [
    "# define all digits as string\n",
    "all_digits = ['0', '1', '2', '3', '4', '5', '6', '7', '8', '9']\n",
    "\n",
    "# define all letters\n",
    "all_letters = ['a', 'b', 'c', 'd', 'e', 'f', 'g', 'h', 'i', 'j', 'k', 'l',\n",
    "\t\t\t'm', 'n', 'o', 'p', 'q', 'r', 's', 't', 'u', 'v', 'w', 'x', 'y', 'z']\n",
    "\n",
    "# given string\n",
    "string = \"hello world! 123\"\n",
    "\n",
    "# intialized value\n",
    "total_digits = 0\n",
    "total_letters = 0\n",
    "\n",
    "# iterate through all characters\n",
    "for s in string:\n",
    "\n",
    "\t# if character found in all_digits then increment total_digits by one\n",
    "\tif s in all_digits:\n",
    "\t\ttotal_digits += 1\n",
    "\n",
    "\t# if character found in all_letters then increment total_letters by one\n",
    "\telif s in all_letters:\n",
    "\t\ttotal_letters += 1\n",
    "\n",
    "print(\"Total letters found :-\", total_letters)\n",
    "print(\"Total digits found :-\", total_digits)\n"
   ]
  },
  {
   "cell_type": "markdown",
   "id": "077bc52a",
   "metadata": {},
   "source": [
    "# A website requires the users to input username and password to register. Write a program to\n",
    "#check the validity of password input by users."
   ]
  },
  {
   "cell_type": "code",
   "execution_count": null,
   "id": "563d7af4",
   "metadata": {},
   "outputs": [],
   "source": [
    "# Python program to check validation of password\n",
    "# Module of regular expression is used with search()\n",
    "import re\n",
    "password = str(input('enter your password'))\n",
    "flag = 0\n",
    "while True:\n",
    "\tif (len(password)<8):\n",
    "\t\tflag = -1\n",
    "\t\tbreak\n",
    "\telif not re.search(\"[a-z]\", password):\n",
    "\t\tflag = -1\n",
    "\t\tbreak\n",
    "\telif not re.search(\"[A-Z]\", password):\n",
    "\t\tflag = -1\n",
    "\t\tbreak\n",
    "\telif not re.search(\"[0-9]\", password):\n",
    "\t\tflag = -1\n",
    "\t\tbreak\n",
    "\telif not re.search(\"[_@$]\", password):\n",
    "\t\tflag = -1\n",
    "\t\tbreak\n",
    "\telif re.search(\"\\s\", password):\n",
    "\t\tflag = -1\n",
    "\t\tbreak\n",
    "\telse:\n",
    "\t\tflag = 0\n",
    "\t\tprint(\"Valid Password\")\n",
    "\t\tbreak\n",
    "\n",
    "if flag ==-1:\n",
    "\tprint(\"Not a Valid Password\")\n"
   ]
  },
  {
   "cell_type": "code",
   "execution_count": null,
   "id": "5704f61a",
   "metadata": {},
   "outputs": [],
   "source": []
  },
  {
   "cell_type": "code",
   "execution_count": null,
   "id": "daa58e6e",
   "metadata": {},
   "outputs": [],
   "source": []
  },
  {
   "cell_type": "code",
   "execution_count": null,
   "id": "c487e476",
   "metadata": {},
   "outputs": [],
   "source": []
  }
 ],
 "metadata": {
  "kernelspec": {
   "display_name": "Python 3",
   "language": "python",
   "name": "python3"
  },
  "language_info": {
   "codemirror_mode": {
    "name": "ipython",
    "version": 3
   },
   "file_extension": ".py",
   "mimetype": "text/x-python",
   "name": "python",
   "nbconvert_exporter": "python",
   "pygments_lexer": "ipython3",
   "version": "3.8.8"
  }
 },
 "nbformat": 4,
 "nbformat_minor": 5
}
